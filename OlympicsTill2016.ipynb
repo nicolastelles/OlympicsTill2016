{
 "cells": [
  {
   "attachments": {},
   "cell_type": "markdown",
   "metadata": {
    "collapsed": true
   },
   "source": [
    "#     Nícolas Telles -  Análise das Olimpíadas até 2016\n",
    "\n",
    "\n",
    "\n",
    "   <img src=\"olimpiadas.png\"> \n",
    "   \n",
    "   #### Essa análise tem como objetivo identificar as características(físicas) e possíveis comportamentos de grandes vencedores tanto individuais como coletivos, tanto como identificar se há discrepância MASCULINO x FEMININO ####\n"
   ]
  },
  {
   "cell_type": "code",
   "execution_count": null,
   "metadata": {},
   "outputs": [],
   "source": []
  },
  {
   "cell_type": "code",
   "execution_count": 24,
   "metadata": {},
   "outputs": [],
   "source": [
    "import matplotlib.pyplot as plt\n",
    "import pandas as pd\n",
    "import numpy as np\n",
    "import seaborn as sns\n",
    "%matplotlib inline"
   ]
  },
  {
   "cell_type": "code",
   "execution_count": 2,
   "metadata": {
    "pycharm": {
     "name": "#%%\n"
    }
   },
   "outputs": [],
   "source": [
    "df_olimpiadas = pd.read_csv('athlete_events.csv')"
   ]
  },
  {
   "cell_type": "markdown",
   "metadata": {
    "pycharm": {
     "name": "#%%\n"
    }
   },
   "source": [
    "df_olimpiadas.info()"
   ]
  },
  {
   "cell_type": "markdown",
   "metadata": {},
   "source": [
    "## Limpando a base pra facilitar a análise"
   ]
  },
  {
   "cell_type": "markdown",
   "metadata": {},
   "source": [
    "#### Amostragem para verificar como estão os dados ####\n"
   ]
  },
  {
   "cell_type": "code",
   "execution_count": 4,
   "metadata": {
    "pycharm": {
     "name": "#%%\n"
    }
   },
   "outputs": [
    {
     "data": {
      "text/html": [
       "<div>\n",
       "<style scoped>\n",
       "    .dataframe tbody tr th:only-of-type {\n",
       "        vertical-align: middle;\n",
       "    }\n",
       "\n",
       "    .dataframe tbody tr th {\n",
       "        vertical-align: top;\n",
       "    }\n",
       "\n",
       "    .dataframe thead th {\n",
       "        text-align: right;\n",
       "    }\n",
       "</style>\n",
       "<table border=\"1\" class=\"dataframe\">\n",
       "  <thead>\n",
       "    <tr style=\"text-align: right;\">\n",
       "      <th></th>\n",
       "      <th>ID</th>\n",
       "      <th>Name</th>\n",
       "      <th>Sex</th>\n",
       "      <th>Age</th>\n",
       "      <th>Height</th>\n",
       "      <th>Weight</th>\n",
       "      <th>Team</th>\n",
       "      <th>NOC</th>\n",
       "      <th>Games</th>\n",
       "      <th>Year</th>\n",
       "      <th>Season</th>\n",
       "      <th>City</th>\n",
       "      <th>Sport</th>\n",
       "      <th>Event</th>\n",
       "      <th>Medal</th>\n",
       "    </tr>\n",
       "  </thead>\n",
       "  <tbody>\n",
       "    <tr>\n",
       "      <th>231589</th>\n",
       "      <td>116186</td>\n",
       "      <td>Yuta Suenaga</td>\n",
       "      <td>M</td>\n",
       "      <td>23.0</td>\n",
       "      <td>178.0</td>\n",
       "      <td>72.0</td>\n",
       "      <td>Japan</td>\n",
       "      <td>JPN</td>\n",
       "      <td>2008 Summer</td>\n",
       "      <td>2008</td>\n",
       "      <td>Summer</td>\n",
       "      <td>Beijing</td>\n",
       "      <td>Swimming</td>\n",
       "      <td>Swimming Men's 200 metres Breaststroke</td>\n",
       "      <td>NaN</td>\n",
       "    </tr>\n",
       "  </tbody>\n",
       "</table>\n",
       "</div>"
      ],
      "text/plain": [
       "            ID          Name Sex   Age  Height  Weight   Team  NOC  \\\n",
       "231589  116186  Yuta Suenaga   M  23.0   178.0    72.0  Japan  JPN   \n",
       "\n",
       "              Games  Year  Season     City     Sport  \\\n",
       "231589  2008 Summer  2008  Summer  Beijing  Swimming   \n",
       "\n",
       "                                         Event Medal  \n",
       "231589  Swimming Men's 200 metres Breaststroke   NaN  "
      ]
     },
     "execution_count": 4,
     "metadata": {},
     "output_type": "execute_result"
    }
   ],
   "source": [
    "df_olimpiadas.sample()\n"
   ]
  },
  {
   "cell_type": "markdown",
   "metadata": {},
   "source": [
    "#### Verificando quais são os dados nulos ####"
   ]
  },
  {
   "cell_type": "code",
   "execution_count": 5,
   "metadata": {
    "pycharm": {
     "name": "#%%\n"
    }
   },
   "outputs": [
    {
     "data": {
      "text/plain": [
       "ID             0\n",
       "Name           0\n",
       "Sex            0\n",
       "Age         9474\n",
       "Height     60171\n",
       "Weight     62875\n",
       "Team           0\n",
       "NOC            0\n",
       "Games          0\n",
       "Year           0\n",
       "Season         0\n",
       "City           0\n",
       "Sport          0\n",
       "Event          0\n",
       "Medal     231333\n",
       "dtype: int64"
      ]
     },
     "execution_count": 5,
     "metadata": {},
     "output_type": "execute_result"
    }
   ],
   "source": [
    "df_olimpiadas.isnull().sum()\n"
   ]
  },
  {
   "cell_type": "markdown",
   "metadata": {
    "pycharm": {
     "name": "#%% md\n"
    }
   },
   "source": [
    " #### Coluna Medal com 'NaN' - vou substituir por 'Sem Pódio' ####\n"
   ]
  },
  {
   "cell_type": "code",
   "execution_count": 11,
   "metadata": {
    "pycharm": {
     "name": "#%%\n"
    }
   },
   "outputs": [
    {
     "data": {
      "text/html": [
       "<div>\n",
       "<style scoped>\n",
       "    .dataframe tbody tr th:only-of-type {\n",
       "        vertical-align: middle;\n",
       "    }\n",
       "\n",
       "    .dataframe tbody tr th {\n",
       "        vertical-align: top;\n",
       "    }\n",
       "\n",
       "    .dataframe thead th {\n",
       "        text-align: right;\n",
       "    }\n",
       "</style>\n",
       "<table border=\"1\" class=\"dataframe\">\n",
       "  <thead>\n",
       "    <tr style=\"text-align: right;\">\n",
       "      <th></th>\n",
       "      <th>ID</th>\n",
       "      <th>Name</th>\n",
       "      <th>Sex</th>\n",
       "      <th>Age</th>\n",
       "      <th>Height</th>\n",
       "      <th>Weight</th>\n",
       "      <th>Team</th>\n",
       "      <th>NOC</th>\n",
       "      <th>Games</th>\n",
       "      <th>Year</th>\n",
       "      <th>Season</th>\n",
       "      <th>City</th>\n",
       "      <th>Sport</th>\n",
       "      <th>Event</th>\n",
       "      <th>Medal</th>\n",
       "    </tr>\n",
       "  </thead>\n",
       "  <tbody>\n",
       "    <tr>\n",
       "      <th>0</th>\n",
       "      <td>1</td>\n",
       "      <td>A Dijiang</td>\n",
       "      <td>M</td>\n",
       "      <td>24.0</td>\n",
       "      <td>180.00000</td>\n",
       "      <td>80.000000</td>\n",
       "      <td>China</td>\n",
       "      <td>CHN</td>\n",
       "      <td>1992 Summer</td>\n",
       "      <td>1992</td>\n",
       "      <td>Summer</td>\n",
       "      <td>Barcelona</td>\n",
       "      <td>Basketball</td>\n",
       "      <td>Basketball Men's Basketball</td>\n",
       "      <td>Sem Pódio</td>\n",
       "    </tr>\n",
       "    <tr>\n",
       "      <th>1</th>\n",
       "      <td>2</td>\n",
       "      <td>A Lamusi</td>\n",
       "      <td>M</td>\n",
       "      <td>23.0</td>\n",
       "      <td>170.00000</td>\n",
       "      <td>60.000000</td>\n",
       "      <td>China</td>\n",
       "      <td>CHN</td>\n",
       "      <td>2012 Summer</td>\n",
       "      <td>2012</td>\n",
       "      <td>Summer</td>\n",
       "      <td>London</td>\n",
       "      <td>Judo</td>\n",
       "      <td>Judo Men's Extra-Lightweight</td>\n",
       "      <td>Sem Pódio</td>\n",
       "    </tr>\n",
       "    <tr>\n",
       "      <th>2</th>\n",
       "      <td>3</td>\n",
       "      <td>Gunnar Nielsen Aaby</td>\n",
       "      <td>M</td>\n",
       "      <td>24.0</td>\n",
       "      <td>175.33897</td>\n",
       "      <td>70.702393</td>\n",
       "      <td>Denmark</td>\n",
       "      <td>DEN</td>\n",
       "      <td>1920 Summer</td>\n",
       "      <td>1920</td>\n",
       "      <td>Summer</td>\n",
       "      <td>Antwerpen</td>\n",
       "      <td>Football</td>\n",
       "      <td>Football Men's Football</td>\n",
       "      <td>Sem Pódio</td>\n",
       "    </tr>\n",
       "    <tr>\n",
       "      <th>3</th>\n",
       "      <td>4</td>\n",
       "      <td>Edgar Lindenau Aabye</td>\n",
       "      <td>M</td>\n",
       "      <td>34.0</td>\n",
       "      <td>175.33897</td>\n",
       "      <td>70.702393</td>\n",
       "      <td>Denmark/Sweden</td>\n",
       "      <td>DEN</td>\n",
       "      <td>1900 Summer</td>\n",
       "      <td>1900</td>\n",
       "      <td>Summer</td>\n",
       "      <td>Paris</td>\n",
       "      <td>Tug-Of-War</td>\n",
       "      <td>Tug-Of-War Men's Tug-Of-War</td>\n",
       "      <td>Gold</td>\n",
       "    </tr>\n",
       "    <tr>\n",
       "      <th>4</th>\n",
       "      <td>5</td>\n",
       "      <td>Christine Jacoba Aaftink</td>\n",
       "      <td>F</td>\n",
       "      <td>21.0</td>\n",
       "      <td>185.00000</td>\n",
       "      <td>82.000000</td>\n",
       "      <td>Netherlands</td>\n",
       "      <td>NED</td>\n",
       "      <td>1988 Winter</td>\n",
       "      <td>1988</td>\n",
       "      <td>Winter</td>\n",
       "      <td>Calgary</td>\n",
       "      <td>Speed Skating</td>\n",
       "      <td>Speed Skating Women's 500 metres</td>\n",
       "      <td>Sem Pódio</td>\n",
       "    </tr>\n",
       "  </tbody>\n",
       "</table>\n",
       "</div>"
      ],
      "text/plain": [
       "   ID                      Name Sex   Age     Height     Weight  \\\n",
       "0   1                 A Dijiang   M  24.0  180.00000  80.000000   \n",
       "1   2                  A Lamusi   M  23.0  170.00000  60.000000   \n",
       "2   3       Gunnar Nielsen Aaby   M  24.0  175.33897  70.702393   \n",
       "3   4      Edgar Lindenau Aabye   M  34.0  175.33897  70.702393   \n",
       "4   5  Christine Jacoba Aaftink   F  21.0  185.00000  82.000000   \n",
       "\n",
       "             Team  NOC        Games  Year  Season       City          Sport  \\\n",
       "0           China  CHN  1992 Summer  1992  Summer  Barcelona     Basketball   \n",
       "1           China  CHN  2012 Summer  2012  Summer     London           Judo   \n",
       "2         Denmark  DEN  1920 Summer  1920  Summer  Antwerpen       Football   \n",
       "3  Denmark/Sweden  DEN  1900 Summer  1900  Summer      Paris     Tug-Of-War   \n",
       "4     Netherlands  NED  1988 Winter  1988  Winter    Calgary  Speed Skating   \n",
       "\n",
       "                              Event      Medal  \n",
       "0       Basketball Men's Basketball  Sem Pódio  \n",
       "1      Judo Men's Extra-Lightweight  Sem Pódio  \n",
       "2           Football Men's Football  Sem Pódio  \n",
       "3       Tug-Of-War Men's Tug-Of-War       Gold  \n",
       "4  Speed Skating Women's 500 metres  Sem Pódio  "
      ]
     },
     "execution_count": 11,
     "metadata": {},
     "output_type": "execute_result"
    }
   ],
   "source": [
    "df_olimpiadas['Medal'] = df_olimpiadas['Medal'].fillna('Sem Pódio')\n",
    "df_olimpiadas.head(5)\n"
   ]
  },
  {
   "cell_type": "markdown",
   "metadata": {},
   "source": [
    "#### Atribuindo a média de altura e peso aos valores nulos ####"
   ]
  },
  {
   "cell_type": "code",
   "execution_count": 12,
   "metadata": {
    "pycharm": {
     "name": "#%%\n"
    },
    "scrolled": true
   },
   "outputs": [
    {
     "data": {
      "text/plain": [
       "175.3389698736043"
      ]
     },
     "execution_count": 12,
     "metadata": {},
     "output_type": "execute_result"
    }
   ],
   "source": [
    "mediah = df_olimpiadas['Height'].mean()\n",
    "mediah"
   ]
  },
  {
   "cell_type": "code",
   "execution_count": 13,
   "metadata": {
    "pycharm": {
     "name": "#%%\n"
    }
   },
   "outputs": [
    {
     "data": {
      "text/plain": [
       "70.70239290055207"
      ]
     },
     "execution_count": 13,
     "metadata": {},
     "output_type": "execute_result"
    }
   ],
   "source": [
    "mediaw = df_olimpiadas['Weight'].mean()\n",
    "mediaw"
   ]
  },
  {
   "cell_type": "code",
   "execution_count": 14,
   "metadata": {
    "pycharm": {
     "name": "#%%\n"
    }
   },
   "outputs": [],
   "source": [
    "df_olimpiadas['Height'] = df_olimpiadas['Height'].fillna(mediah)\n",
    "df_olimpiadas['Weight'] = df_olimpiadas['Weight'].fillna(mediaw)\n",
    "#df_olimpiadas['Height'].mean()"
   ]
  },
  {
   "cell_type": "code",
   "execution_count": 15,
   "metadata": {
    "pycharm": {
     "name": "#%%\n"
    }
   },
   "outputs": [
    {
     "data": {
      "text/html": [
       "<div>\n",
       "<style scoped>\n",
       "    .dataframe tbody tr th:only-of-type {\n",
       "        vertical-align: middle;\n",
       "    }\n",
       "\n",
       "    .dataframe tbody tr th {\n",
       "        vertical-align: top;\n",
       "    }\n",
       "\n",
       "    .dataframe thead th {\n",
       "        text-align: right;\n",
       "    }\n",
       "</style>\n",
       "<table border=\"1\" class=\"dataframe\">\n",
       "  <thead>\n",
       "    <tr style=\"text-align: right;\">\n",
       "      <th></th>\n",
       "      <th>ID</th>\n",
       "      <th>Name</th>\n",
       "      <th>Sex</th>\n",
       "      <th>Age</th>\n",
       "      <th>Height</th>\n",
       "      <th>Weight</th>\n",
       "      <th>Team</th>\n",
       "      <th>NOC</th>\n",
       "      <th>Games</th>\n",
       "      <th>Year</th>\n",
       "      <th>Season</th>\n",
       "      <th>City</th>\n",
       "      <th>Sport</th>\n",
       "      <th>Event</th>\n",
       "      <th>Medal</th>\n",
       "    </tr>\n",
       "  </thead>\n",
       "  <tbody>\n",
       "    <tr>\n",
       "      <th>0</th>\n",
       "      <td>1</td>\n",
       "      <td>A Dijiang</td>\n",
       "      <td>M</td>\n",
       "      <td>24.0</td>\n",
       "      <td>180.00000</td>\n",
       "      <td>80.000000</td>\n",
       "      <td>China</td>\n",
       "      <td>CHN</td>\n",
       "      <td>1992 Summer</td>\n",
       "      <td>1992</td>\n",
       "      <td>Summer</td>\n",
       "      <td>Barcelona</td>\n",
       "      <td>Basketball</td>\n",
       "      <td>Basketball Men's Basketball</td>\n",
       "      <td>Sem Pódio</td>\n",
       "    </tr>\n",
       "    <tr>\n",
       "      <th>1</th>\n",
       "      <td>2</td>\n",
       "      <td>A Lamusi</td>\n",
       "      <td>M</td>\n",
       "      <td>23.0</td>\n",
       "      <td>170.00000</td>\n",
       "      <td>60.000000</td>\n",
       "      <td>China</td>\n",
       "      <td>CHN</td>\n",
       "      <td>2012 Summer</td>\n",
       "      <td>2012</td>\n",
       "      <td>Summer</td>\n",
       "      <td>London</td>\n",
       "      <td>Judo</td>\n",
       "      <td>Judo Men's Extra-Lightweight</td>\n",
       "      <td>Sem Pódio</td>\n",
       "    </tr>\n",
       "    <tr>\n",
       "      <th>2</th>\n",
       "      <td>3</td>\n",
       "      <td>Gunnar Nielsen Aaby</td>\n",
       "      <td>M</td>\n",
       "      <td>24.0</td>\n",
       "      <td>175.33897</td>\n",
       "      <td>70.702393</td>\n",
       "      <td>Denmark</td>\n",
       "      <td>DEN</td>\n",
       "      <td>1920 Summer</td>\n",
       "      <td>1920</td>\n",
       "      <td>Summer</td>\n",
       "      <td>Antwerpen</td>\n",
       "      <td>Football</td>\n",
       "      <td>Football Men's Football</td>\n",
       "      <td>Sem Pódio</td>\n",
       "    </tr>\n",
       "    <tr>\n",
       "      <th>3</th>\n",
       "      <td>4</td>\n",
       "      <td>Edgar Lindenau Aabye</td>\n",
       "      <td>M</td>\n",
       "      <td>34.0</td>\n",
       "      <td>175.33897</td>\n",
       "      <td>70.702393</td>\n",
       "      <td>Denmark/Sweden</td>\n",
       "      <td>DEN</td>\n",
       "      <td>1900 Summer</td>\n",
       "      <td>1900</td>\n",
       "      <td>Summer</td>\n",
       "      <td>Paris</td>\n",
       "      <td>Tug-Of-War</td>\n",
       "      <td>Tug-Of-War Men's Tug-Of-War</td>\n",
       "      <td>Gold</td>\n",
       "    </tr>\n",
       "    <tr>\n",
       "      <th>4</th>\n",
       "      <td>5</td>\n",
       "      <td>Christine Jacoba Aaftink</td>\n",
       "      <td>F</td>\n",
       "      <td>21.0</td>\n",
       "      <td>185.00000</td>\n",
       "      <td>82.000000</td>\n",
       "      <td>Netherlands</td>\n",
       "      <td>NED</td>\n",
       "      <td>1988 Winter</td>\n",
       "      <td>1988</td>\n",
       "      <td>Winter</td>\n",
       "      <td>Calgary</td>\n",
       "      <td>Speed Skating</td>\n",
       "      <td>Speed Skating Women's 500 metres</td>\n",
       "      <td>Sem Pódio</td>\n",
       "    </tr>\n",
       "  </tbody>\n",
       "</table>\n",
       "</div>"
      ],
      "text/plain": [
       "   ID                      Name Sex   Age     Height     Weight  \\\n",
       "0   1                 A Dijiang   M  24.0  180.00000  80.000000   \n",
       "1   2                  A Lamusi   M  23.0  170.00000  60.000000   \n",
       "2   3       Gunnar Nielsen Aaby   M  24.0  175.33897  70.702393   \n",
       "3   4      Edgar Lindenau Aabye   M  34.0  175.33897  70.702393   \n",
       "4   5  Christine Jacoba Aaftink   F  21.0  185.00000  82.000000   \n",
       "\n",
       "             Team  NOC        Games  Year  Season       City          Sport  \\\n",
       "0           China  CHN  1992 Summer  1992  Summer  Barcelona     Basketball   \n",
       "1           China  CHN  2012 Summer  2012  Summer     London           Judo   \n",
       "2         Denmark  DEN  1920 Summer  1920  Summer  Antwerpen       Football   \n",
       "3  Denmark/Sweden  DEN  1900 Summer  1900  Summer      Paris     Tug-Of-War   \n",
       "4     Netherlands  NED  1988 Winter  1988  Winter    Calgary  Speed Skating   \n",
       "\n",
       "                              Event      Medal  \n",
       "0       Basketball Men's Basketball  Sem Pódio  \n",
       "1      Judo Men's Extra-Lightweight  Sem Pódio  \n",
       "2           Football Men's Football  Sem Pódio  \n",
       "3       Tug-Of-War Men's Tug-Of-War       Gold  \n",
       "4  Speed Skating Women's 500 metres  Sem Pódio  "
      ]
     },
     "execution_count": 15,
     "metadata": {},
     "output_type": "execute_result"
    }
   ],
   "source": [
    "df_olimpiadas.head(5)"
   ]
  },
  {
   "cell_type": "markdown",
   "metadata": {},
   "source": [
    "###  Ranking de Países por *quantidade* de medalhas\n",
    "    - Ouro \n",
    "    - Prata \n",
    "    - Bronze"
   ]
  },
  {
   "cell_type": "code",
   "execution_count": null,
   "metadata": {},
   "outputs": [],
   "source": []
  },
  {
   "cell_type": "code",
   "execution_count": 91,
   "metadata": {},
   "outputs": [
    {
     "data": {
      "text/plain": [
       "United States    2474\n",
       "Soviet Union     1058\n",
       "Germany           679\n",
       "Italy             535\n",
       "Great Britain     519\n",
       "France            455\n",
       "Sweden            451\n",
       "Hungary           432\n",
       "Canada            422\n",
       "East Germany      369\n",
       "Name: Team, dtype: int64"
      ]
     },
     "execution_count": 91,
     "metadata": {},
     "output_type": "execute_result"
    }
   ],
   "source": [
    "df_olimpiadas[df_olimpiadas['Medal'] == 'Gold']['Team'].value_counts().head(10)"
   ]
  },
  {
   "cell_type": "code",
   "execution_count": 93,
   "metadata": {},
   "outputs": [
    {
     "data": {
      "text/plain": [
       "United States    1512\n",
       "Soviet Union      716\n",
       "Germany           627\n",
       "Great Britain     582\n",
       "France            518\n",
       "Italy             508\n",
       "Sweden            476\n",
       "Australia         453\n",
       "Canada            413\n",
       "Russia            351\n",
       "Name: Team, dtype: int64"
      ]
     },
     "execution_count": 93,
     "metadata": {},
     "output_type": "execute_result"
    }
   ],
   "source": [
    "df_olimpiadas[df_olimpiadas['Medal'] == 'Silver']['Team'].value_counts().head(10)"
   ]
  },
  {
   "cell_type": "code",
   "execution_count": 94,
   "metadata": {},
   "outputs": [
    {
     "data": {
      "text/plain": [
       "United States    1233\n",
       "Germany           678\n",
       "Soviet Union      677\n",
       "France            577\n",
       "Great Britain     572\n",
       "Australia         511\n",
       "Sweden            507\n",
       "Italy             484\n",
       "Finland           415\n",
       "Canada            408\n",
       "Name: Team, dtype: int64"
      ]
     },
     "execution_count": 94,
     "metadata": {},
     "output_type": "execute_result"
    }
   ],
   "source": [
    "df_olimpiadas[df_olimpiadas['Medal'] == 'Bronze']['Team'].value_counts().head(10)"
   ]
  },
  {
   "cell_type": "markdown",
   "metadata": {
    "pycharm": {
     "name": "#%% md\n"
    }
   },
   "source": [
    "### Vou verificar quais são os maiores campeões e se existe algum padrão de comportamento. ###"
   ]
  },
  {
   "cell_type": "code",
   "execution_count": 16,
   "metadata": {
    "pycharm": {
     "name": "#%%\n"
    }
   },
   "outputs": [
    {
     "data": {
      "text/plain": [
       "Michael Fred Phelps, II                            23\n",
       "Raymond Clarence \"Ray\" Ewry                        10\n",
       "Larysa Semenivna Latynina (Diriy-)                  9\n",
       "Frederick Carlton \"Carl\" Lewis                      9\n",
       "Paavo Johannes Nurmi                                9\n",
       "Mark Andrew Spitz                                   9\n",
       "Birgit Fischer-Schmidt                              8\n",
       "Usain St. Leo Bolt                                  8\n",
       "Jennifer Elisabeth \"Jenny\" Thompson (-Cumpelik)     8\n",
       "Ole Einar Bjrndalen                                 8\n",
       "Name: Name, dtype: int64"
      ]
     },
     "execution_count": 16,
     "metadata": {},
     "output_type": "execute_result"
    }
   ],
   "source": [
    "df_olimpiadas[df_olimpiadas['Medal'] == 'Gold']['Name'].value_counts().head(10)"
   ]
  },
  {
   "cell_type": "code",
   "execution_count": null,
   "metadata": {},
   "outputs": [],
   "source": []
  },
  {
   "cell_type": "markdown",
   "metadata": {},
   "source": [
    "#### Nota-se que o o maior número de participantes está na casa entre 20 e 30 anos , ou seja o auge da carreira"
   ]
  },
  {
   "cell_type": "code",
   "execution_count": 50,
   "metadata": {
    "pycharm": {
     "name": "#%%\n"
    }
   },
   "outputs": [
    {
     "data": {
      "text/plain": [
       "<matplotlib.axes._subplots.AxesSubplot at 0x213bdd65608>"
      ]
     },
     "execution_count": 50,
     "metadata": {},
     "output_type": "execute_result"
    },
    {
     "data": {
      "image/png": "[encoded data removed]",
      "text/plain": [
       "<Figure size 432x288 with 1 Axes>"
      ]
     },
     "metadata": {
      "needs_background": "light"
     },
     "output_type": "display_data"
    }
   ],
   "source": [
    "sns.distplot(df_olimpiadas['Age'], bins = 10)"
   ]
  },
  {
   "cell_type": "markdown",
   "metadata": {},
   "source": [
    "### Vamos ver se a informação anterior condiz com o maior medalhista olímpico\n",
    "\n",
    "<img src=\"michael-phelps-pequim-2008.jpg\"> \n"
   ]
  },
  {
   "cell_type": "code",
   "execution_count": 53,
   "metadata": {
    "pycharm": {
     "name": "#%%\n"
    }
   },
   "outputs": [
    {
     "data": {
      "text/plain": [
       "187887    15.0\n",
       "187888    19.0\n",
       "187889    19.0\n",
       "187890    19.0\n",
       "187891    19.0\n",
       "187892    19.0\n",
       "187893    19.0\n",
       "187894    19.0\n",
       "187895    19.0\n",
       "187896    23.0\n",
       "187897    23.0\n",
       "187898    23.0\n",
       "187899    23.0\n",
       "187900    23.0\n",
       "187901    23.0\n",
       "187902    23.0\n",
       "187903    23.0\n",
       "187904    27.0\n",
       "187905    27.0\n",
       "187906    27.0\n",
       "187907    27.0\n",
       "187908    27.0\n",
       "187909    27.0\n",
       "187910    27.0\n",
       "187911    31.0\n",
       "187912    31.0\n",
       "187913    31.0\n",
       "187914    31.0\n",
       "187915    31.0\n",
       "187916    31.0\n",
       "Name: Age, dtype: float64"
      ]
     },
     "execution_count": 53,
     "metadata": {},
     "output_type": "execute_result"
    }
   ],
   "source": [
    "df_olimpiadas[df_olimpiadas['Name'] == 'Michael Fred Phelps, II']['Age']"
   ]
  },
  {
   "cell_type": "code",
   "execution_count": 54,
   "metadata": {
    "scrolled": true
   },
   "outputs": [
    {
     "data": {
      "text/plain": [
       "187888    19.0\n",
       "187889    19.0\n",
       "187890    19.0\n",
       "187891    19.0\n",
       "187892    19.0\n",
       "187893    19.0\n",
       "187894    19.0\n",
       "187895    19.0\n",
       "187896    23.0\n",
       "187897    23.0\n",
       "187898    23.0\n",
       "187899    23.0\n",
       "187900    23.0\n",
       "187901    23.0\n",
       "187902    23.0\n",
       "187903    23.0\n",
       "187904    27.0\n",
       "187905    27.0\n",
       "187906    27.0\n",
       "187907    27.0\n",
       "187908    27.0\n",
       "187910    27.0\n",
       "187911    31.0\n",
       "187912    31.0\n",
       "187913    31.0\n",
       "187914    31.0\n",
       "187915    31.0\n",
       "187916    31.0\n",
       "Name: Age, dtype: float64"
      ]
     },
     "execution_count": 54,
     "metadata": {},
     "output_type": "execute_result"
    }
   ],
   "source": [
    "df_olimpiadas[(df_olimpiadas['Name'] == 'Michael Fred Phelps, II') & (df_olimpiadas['Medal'] != 'Sem Pódio')]['Age']"
   ]
  },
  {
   "cell_type": "markdown",
   "metadata": {},
   "source": [
    "### Média da idade do Felps nas Olimpíadas"
   ]
  },
  {
   "cell_type": "code",
   "execution_count": 55,
   "metadata": {},
   "outputs": [
    {
     "data": {
      "text/plain": [
       "24.428571428571427"
      ]
     },
     "execution_count": 55,
     "metadata": {},
     "output_type": "execute_result"
    }
   ],
   "source": [
    "df_olimpiadas[(df_olimpiadas['Name'] == 'Michael Fred Phelps, II') & (df_olimpiadas['Medal'] != 'Sem Pódio')]['Age'].mean()"
   ]
  },
  {
   "cell_type": "markdown",
   "metadata": {
    "pycharm": {
     "is_executing": true,
     "name": "#%% md\n"
    }
   },
   "source": [
    "### MASCULINO X FEMININO ###"
   ]
  },
  {
   "cell_type": "markdown",
   "metadata": {},
   "source": [
    "#### Note que existe uma leve discrepância de ganho de medalhas em relação ao gênero , todavia devido ao fato de mais homens participarem ou o fato de dos homens competem em provas individuais participarem de mais provas, como é o caso da Natação onde o atleta pode disputar diversas modalidades"
   ]
  },
  {
   "cell_type": "code",
   "execution_count": 26,
   "metadata": {
    "pycharm": {
     "name": "#%%\n"
    }
   },
   "outputs": [
    {
     "data": {
      "text/plain": [
       "<matplotlib.axes._subplots.AxesSubplot at 0x213bbb18c88>"
      ]
     },
     "execution_count": 26,
     "metadata": {},
     "output_type": "execute_result"
    },
    {
     "data": {
      "image/png": "[encoded data removed]",
      "text/plain": [
       "<Figure size 432x288 with 1 Axes>"
      ]
     },
     "metadata": {
      "needs_background": "light"
     },
     "output_type": "display_data"
    }
   ],
   "source": [
    "    sns.countplot(x = 'Medal', hue = 'Sex', data = df_olimpiadas)"
   ]
  },
  {
   "cell_type": "code",
   "execution_count": 86,
   "metadata": {},
   "outputs": [
    {
     "data": {
      "text/plain": [
       "<matplotlib.axes._subplots.AxesSubplot at 0x213d08c8308>"
      ]
     },
     "execution_count": 86,
     "metadata": {},
     "output_type": "execute_result"
    },
    {
     "data": {
      "image/png": "[encoded data removed]",
      "text/plain": [
       "<Figure size 1080x360 with 1 Axes>"
      ]
     },
     "metadata": {
      "needs_background": "light"
     },
     "output_type": "display_data"
    }
   ],
   "source": [
    "plt.figure(figsize = (15,5))\n",
    "sns.countplot(x ='Age', hue = 'Sex' , data = df_olimpiadas)"
   ]
  },
  {
   "cell_type": "markdown",
   "metadata": {},
   "source": [
    "### Insights  e suposições do gráfico acima:\n",
    "\n",
    "        - Única idade +- igualada entre os dois gêneros é por volta de 18 anos.\n",
    "        - Mulheres vão para as Olimpíadas mais cedo do que os homens. Possíveis causas;:\n",
    "            - Modalidade praticada alinhada ao porte fisíco. Ex: Ginástica || Quanto mais nova ou menor mais perfeitos os movimentos executados ? \n",
    "         - Homens demoram mais pra amadurecer, atingem seu auge mais tarde ?\n",
    "         - Homens tem carreira mais longa e ficam em seu auge por mais tempo que as mulhres? \n",
    "       Então o se uma mulher deseja se destacar numa Olimpíada é prefirível que comece desde criança?? \n",
    "       - Maior incentivo a esporte coletivos masculinos em relação aos femininos,  o que torna também um dos fatores  dessa discrepância?"
   ]
  },
  {
   "cell_type": "code",
   "execution_count": 110,
   "metadata": {},
   "outputs": [
    {
     "data": {
      "text/plain": [
       "<matplotlib.axes._subplots.AxesSubplot at 0x213c71dda48>"
      ]
     },
     "execution_count": 110,
     "metadata": {},
     "output_type": "execute_result"
    },
    {
     "data": {
      "image/png": "[encoded data removed]",
      "text/plain": [
       "<Figure size 432x288 with 2 Axes>"
      ]
     },
     "metadata": {
      "needs_background": "light"
     },
     "output_type": "display_data"
    }
   ],
   "source": [
    "medalsex = df_olimpiadas.groupby(by=['Medal','Sex']).count()\n",
    "sns.heatmap(medalsex)"
   ]
  },
  {
   "cell_type": "code",
   "execution_count": 18,
   "metadata": {
    "pycharm": {
     "name": "#%%\n"
    }
   },
   "outputs": [
    {
     "data": {
      "text/plain": [
       "196594"
      ]
     },
     "execution_count": 18,
     "metadata": {},
     "output_type": "execute_result"
    }
   ],
   "source": [
    "df_olimpiadas[df_olimpiadas['Sex'] == 'M'].count()['Sex']\n"
   ]
  },
  {
   "cell_type": "code",
   "execution_count": 19,
   "metadata": {
    "pycharm": {
     "name": "#%%\n"
    }
   },
   "outputs": [
    {
     "data": {
      "text/plain": [
       "74522"
      ]
     },
     "execution_count": 19,
     "metadata": {},
     "output_type": "execute_result"
    }
   ],
   "source": [
    "df_olimpiadas[df_olimpiadas['Sex'] == 'F'].count()['Sex']"
   ]
  },
  {
   "cell_type": "code",
   "execution_count": 27,
   "metadata": {
    "pycharm": {
     "name": "#%%\n"
    }
   },
   "outputs": [
    {
     "data": {
      "text/plain": [
       "<matplotlib.axes._subplots.AxesSubplot at 0x213bbc03c88>"
      ]
     },
     "execution_count": 27,
     "metadata": {},
     "output_type": "execute_result"
    },
    {
     "data": {
      "image/png": "[encoded data removed]",
      "text/plain": [
       "<Figure size 432x288 with 1 Axes>"
      ]
     },
     "metadata": {
      "needs_background": "light"
     },
     "output_type": "display_data"
    }
   ],
   "source": [
    "df_olimpiadas[df_olimpiadas['Sex'] == 'M'].groupby('Medal').count()['Sex'].plot(kind = 'bar')\n",
    "df_olimpiadas[df_olimpiadas['Sex'] == 'F'].groupby('Medal').count()['Sex'].plot()"
   ]
  },
  {
   "cell_type": "code",
   "execution_count": 103,
   "metadata": {
    "pycharm": {
     "name": "#%%\n"
    }
   },
   "outputs": [
    {
     "data": {
      "text/plain": [
       "<matplotlib.axes._subplots.AxesSubplot at 0x213c97b0ec8>"
      ]
     },
     "execution_count": 103,
     "metadata": {},
     "output_type": "execute_result"
    },
    {
     "data": {
      "image/png": "[encoded data removed]",
      "text/plain": [
       "<Figure size 432x288 with 1 Axes>"
      ]
     },
     "metadata": {
      "needs_background": "light"
     },
     "output_type": "display_data"
    }
   ],
   "source": [
    "df_olimpiadas[df_olimpiadas['Sex'] == 'F'].groupby('Medal').count()['Sex'].plot(kind = 'barh')"
   ]
  },
  {
   "cell_type": "code",
   "execution_count": 77,
   "metadata": {
    "pycharm": {
     "name": "#%%\n"
    }
   },
   "outputs": [],
   "source": []
  },
  {
   "cell_type": "markdown",
   "metadata": {
    "pycharm": {
     "name": "#%% md\n"
    }
   },
   "source": [
    "### DREAM TEAM 92 ###\n",
    "\n",
    "\n",
    "<img src=\"dreamteams.jpg\">"
   ]
  },
  {
   "cell_type": "code",
   "execution_count": 21,
   "metadata": {
    "pycharm": {
     "name": "#%%\n"
    }
   },
   "outputs": [],
   "source": [
    "dreamteam = df_olimpiadas[(df_olimpiadas['Sport'] == 'Basketball') &  (df_olimpiadas['Year'] == 1992) &  (df_olimpiadas['Sex'] == 'M') &  (df_olimpiadas['Medal'] == 'Gold')]"
   ]
  },
  {
   "cell_type": "code",
   "execution_count": 90,
   "metadata": {
    "pycharm": {
     "name": "#%%\n"
    }
   },
   "outputs": [
    {
     "data": {
      "text/html": [
       "<div>\n",
       "<style scoped>\n",
       "    .dataframe tbody tr th:only-of-type {\n",
       "        vertical-align: middle;\n",
       "    }\n",
       "\n",
       "    .dataframe tbody tr th {\n",
       "        vertical-align: top;\n",
       "    }\n",
       "\n",
       "    .dataframe thead th {\n",
       "        text-align: right;\n",
       "    }\n",
       "</style>\n",
       "<table border=\"1\" class=\"dataframe\">\n",
       "  <thead>\n",
       "    <tr style=\"text-align: right;\">\n",
       "      <th></th>\n",
       "      <th>ID</th>\n",
       "      <th>Name</th>\n",
       "      <th>Sex</th>\n",
       "      <th>Age</th>\n",
       "      <th>Height</th>\n",
       "      <th>Weight</th>\n",
       "      <th>Team</th>\n",
       "      <th>NOC</th>\n",
       "      <th>Games</th>\n",
       "      <th>Year</th>\n",
       "      <th>Season</th>\n",
       "      <th>City</th>\n",
       "      <th>Sport</th>\n",
       "      <th>Event</th>\n",
       "      <th>Medal</th>\n",
       "    </tr>\n",
       "  </thead>\n",
       "  <tbody>\n",
       "    <tr>\n",
       "      <th>14656</th>\n",
       "      <td>7901</td>\n",
       "      <td>Charles Wade Barkley</td>\n",
       "      <td>M</td>\n",
       "      <td>29.0</td>\n",
       "      <td>198.0</td>\n",
       "      <td>114.0</td>\n",
       "      <td>United States</td>\n",
       "      <td>USA</td>\n",
       "      <td>1992 Summer</td>\n",
       "      <td>1992</td>\n",
       "      <td>Summer</td>\n",
       "      <td>Barcelona</td>\n",
       "      <td>Basketball</td>\n",
       "      <td>Basketball Men's Basketball</td>\n",
       "      <td>Gold</td>\n",
       "    </tr>\n",
       "    <tr>\n",
       "      <th>22150</th>\n",
       "      <td>11668</td>\n",
       "      <td>Larry Joe Bird</td>\n",
       "      <td>M</td>\n",
       "      <td>35.0</td>\n",
       "      <td>205.0</td>\n",
       "      <td>100.0</td>\n",
       "      <td>United States</td>\n",
       "      <td>USA</td>\n",
       "      <td>1992 Summer</td>\n",
       "      <td>1992</td>\n",
       "      <td>Summer</td>\n",
       "      <td>Barcelona</td>\n",
       "      <td>Basketball</td>\n",
       "      <td>Basketball Men's Basketball</td>\n",
       "      <td>Gold</td>\n",
       "    </tr>\n",
       "    <tr>\n",
       "      <th>58646</th>\n",
       "      <td>30009</td>\n",
       "      <td>Clyde Austin Drexler</td>\n",
       "      <td>M</td>\n",
       "      <td>30.0</td>\n",
       "      <td>200.0</td>\n",
       "      <td>101.0</td>\n",
       "      <td>United States</td>\n",
       "      <td>USA</td>\n",
       "      <td>1992 Summer</td>\n",
       "      <td>1992</td>\n",
       "      <td>Summer</td>\n",
       "      <td>Barcelona</td>\n",
       "      <td>Basketball</td>\n",
       "      <td>Basketball Men's Basketball</td>\n",
       "      <td>Gold</td>\n",
       "    </tr>\n",
       "    <tr>\n",
       "      <th>65566</th>\n",
       "      <td>33553</td>\n",
       "      <td>Patrick Aloysius Ewing</td>\n",
       "      <td>M</td>\n",
       "      <td>29.0</td>\n",
       "      <td>213.0</td>\n",
       "      <td>109.0</td>\n",
       "      <td>United States</td>\n",
       "      <td>USA</td>\n",
       "      <td>1992 Summer</td>\n",
       "      <td>1992</td>\n",
       "      <td>Summer</td>\n",
       "      <td>Barcelona</td>\n",
       "      <td>Basketball</td>\n",
       "      <td>Basketball Men's Basketball</td>\n",
       "      <td>Gold</td>\n",
       "    </tr>\n",
       "    <tr>\n",
       "      <th>109625</th>\n",
       "      <td>55424</td>\n",
       "      <td>Earvin \"Magic\" Johnson, Jr.</td>\n",
       "      <td>M</td>\n",
       "      <td>32.0</td>\n",
       "      <td>205.0</td>\n",
       "      <td>100.0</td>\n",
       "      <td>United States</td>\n",
       "      <td>USA</td>\n",
       "      <td>1992 Summer</td>\n",
       "      <td>1992</td>\n",
       "      <td>Summer</td>\n",
       "      <td>Barcelona</td>\n",
       "      <td>Basketball</td>\n",
       "      <td>Basketball Men's Basketball</td>\n",
       "      <td>Gold</td>\n",
       "    </tr>\n",
       "    <tr>\n",
       "      <th>110517</th>\n",
       "      <td>55881</td>\n",
       "      <td>Michael Jeffrey Jordan</td>\n",
       "      <td>M</td>\n",
       "      <td>29.0</td>\n",
       "      <td>198.0</td>\n",
       "      <td>90.0</td>\n",
       "      <td>United States</td>\n",
       "      <td>USA</td>\n",
       "      <td>1992 Summer</td>\n",
       "      <td>1992</td>\n",
       "      <td>Summer</td>\n",
       "      <td>Barcelona</td>\n",
       "      <td>Basketball</td>\n",
       "      <td>Basketball Men's Basketball</td>\n",
       "      <td>Gold</td>\n",
       "    </tr>\n",
       "    <tr>\n",
       "      <th>130713</th>\n",
       "      <td>65809</td>\n",
       "      <td>Christian Donald Laettner</td>\n",
       "      <td>M</td>\n",
       "      <td>22.0</td>\n",
       "      <td>211.0</td>\n",
       "      <td>107.0</td>\n",
       "      <td>United States</td>\n",
       "      <td>USA</td>\n",
       "      <td>1992 Summer</td>\n",
       "      <td>1992</td>\n",
       "      <td>Summer</td>\n",
       "      <td>Barcelona</td>\n",
       "      <td>Basketball</td>\n",
       "      <td>Basketball Men's Basketball</td>\n",
       "      <td>Gold</td>\n",
       "    </tr>\n",
       "    <tr>\n",
       "      <th>147819</th>\n",
       "      <td>74176</td>\n",
       "      <td>Karl Malone</td>\n",
       "      <td>M</td>\n",
       "      <td>29.0</td>\n",
       "      <td>205.0</td>\n",
       "      <td>116.0</td>\n",
       "      <td>United States</td>\n",
       "      <td>USA</td>\n",
       "      <td>1992 Summer</td>\n",
       "      <td>1992</td>\n",
       "      <td>Summer</td>\n",
       "      <td>Barcelona</td>\n",
       "      <td>Basketball</td>\n",
       "      <td>Basketball Men's Basketball</td>\n",
       "      <td>Gold</td>\n",
       "    </tr>\n",
       "    <tr>\n",
       "      <th>165616</th>\n",
       "      <td>83179</td>\n",
       "      <td>Christopher Paul \"Chris\" Mullin</td>\n",
       "      <td>M</td>\n",
       "      <td>28.0</td>\n",
       "      <td>200.0</td>\n",
       "      <td>98.0</td>\n",
       "      <td>United States</td>\n",
       "      <td>USA</td>\n",
       "      <td>1992 Summer</td>\n",
       "      <td>1992</td>\n",
       "      <td>Summer</td>\n",
       "      <td>Barcelona</td>\n",
       "      <td>Basketball</td>\n",
       "      <td>Basketball Men's Basketball</td>\n",
       "      <td>Gold</td>\n",
       "    </tr>\n",
       "    <tr>\n",
       "      <th>189367</th>\n",
       "      <td>95105</td>\n",
       "      <td>Scottie Maurice Pippen</td>\n",
       "      <td>M</td>\n",
       "      <td>26.0</td>\n",
       "      <td>200.0</td>\n",
       "      <td>102.0</td>\n",
       "      <td>United States</td>\n",
       "      <td>USA</td>\n",
       "      <td>1992 Summer</td>\n",
       "      <td>1992</td>\n",
       "      <td>Summer</td>\n",
       "      <td>Barcelona</td>\n",
       "      <td>Basketball</td>\n",
       "      <td>Basketball Men's Basketball</td>\n",
       "      <td>Gold</td>\n",
       "    </tr>\n",
       "    <tr>\n",
       "      <th>201956</th>\n",
       "      <td>101428</td>\n",
       "      <td>David Maurice Robinson</td>\n",
       "      <td>M</td>\n",
       "      <td>26.0</td>\n",
       "      <td>216.0</td>\n",
       "      <td>107.0</td>\n",
       "      <td>United States</td>\n",
       "      <td>USA</td>\n",
       "      <td>1992 Summer</td>\n",
       "      <td>1992</td>\n",
       "      <td>Summer</td>\n",
       "      <td>Barcelona</td>\n",
       "      <td>Basketball</td>\n",
       "      <td>Basketball Men's Basketball</td>\n",
       "      <td>Gold</td>\n",
       "    </tr>\n",
       "    <tr>\n",
       "      <th>229678</th>\n",
       "      <td>115325</td>\n",
       "      <td>John Houston Stockton</td>\n",
       "      <td>M</td>\n",
       "      <td>30.0</td>\n",
       "      <td>185.0</td>\n",
       "      <td>79.0</td>\n",
       "      <td>United States</td>\n",
       "      <td>USA</td>\n",
       "      <td>1992 Summer</td>\n",
       "      <td>1992</td>\n",
       "      <td>Summer</td>\n",
       "      <td>Barcelona</td>\n",
       "      <td>Basketball</td>\n",
       "      <td>Basketball Men's Basketball</td>\n",
       "      <td>Gold</td>\n",
       "    </tr>\n",
       "  </tbody>\n",
       "</table>\n",
       "</div>"
      ],
      "text/plain": [
       "            ID                             Name Sex   Age  Height  Weight  \\\n",
       "14656     7901             Charles Wade Barkley   M  29.0   198.0   114.0   \n",
       "22150    11668                   Larry Joe Bird   M  35.0   205.0   100.0   \n",
       "58646    30009             Clyde Austin Drexler   M  30.0   200.0   101.0   \n",
       "65566    33553           Patrick Aloysius Ewing   M  29.0   213.0   109.0   \n",
       "109625   55424      Earvin \"Magic\" Johnson, Jr.   M  32.0   205.0   100.0   \n",
       "110517   55881           Michael Jeffrey Jordan   M  29.0   198.0    90.0   \n",
       "130713   65809        Christian Donald Laettner   M  22.0   211.0   107.0   \n",
       "147819   74176                      Karl Malone   M  29.0   205.0   116.0   \n",
       "165616   83179  Christopher Paul \"Chris\" Mullin   M  28.0   200.0    98.0   \n",
       "189367   95105           Scottie Maurice Pippen   M  26.0   200.0   102.0   \n",
       "201956  101428           David Maurice Robinson   M  26.0   216.0   107.0   \n",
       "229678  115325            John Houston Stockton   M  30.0   185.0    79.0   \n",
       "\n",
       "                 Team  NOC        Games  Year  Season       City       Sport  \\\n",
       "14656   United States  USA  1992 Summer  1992  Summer  Barcelona  Basketball   \n",
       "22150   United States  USA  1992 Summer  1992  Summer  Barcelona  Basketball   \n",
       "58646   United States  USA  1992 Summer  1992  Summer  Barcelona  Basketball   \n",
       "65566   United States  USA  1992 Summer  1992  Summer  Barcelona  Basketball   \n",
       "109625  United States  USA  1992 Summer  1992  Summer  Barcelona  Basketball   \n",
       "110517  United States  USA  1992 Summer  1992  Summer  Barcelona  Basketball   \n",
       "130713  United States  USA  1992 Summer  1992  Summer  Barcelona  Basketball   \n",
       "147819  United States  USA  1992 Summer  1992  Summer  Barcelona  Basketball   \n",
       "165616  United States  USA  1992 Summer  1992  Summer  Barcelona  Basketball   \n",
       "189367  United States  USA  1992 Summer  1992  Summer  Barcelona  Basketball   \n",
       "201956  United States  USA  1992 Summer  1992  Summer  Barcelona  Basketball   \n",
       "229678  United States  USA  1992 Summer  1992  Summer  Barcelona  Basketball   \n",
       "\n",
       "                              Event Medal  \n",
       "14656   Basketball Men's Basketball  Gold  \n",
       "22150   Basketball Men's Basketball  Gold  \n",
       "58646   Basketball Men's Basketball  Gold  \n",
       "65566   Basketball Men's Basketball  Gold  \n",
       "109625  Basketball Men's Basketball  Gold  \n",
       "110517  Basketball Men's Basketball  Gold  \n",
       "130713  Basketball Men's Basketball  Gold  \n",
       "147819  Basketball Men's Basketball  Gold  \n",
       "165616  Basketball Men's Basketball  Gold  \n",
       "189367  Basketball Men's Basketball  Gold  \n",
       "201956  Basketball Men's Basketball  Gold  \n",
       "229678  Basketball Men's Basketball  Gold  "
      ]
     },
     "execution_count": 90,
     "metadata": {},
     "output_type": "execute_result"
    }
   ],
   "source": [
    "dreamteam"
   ]
  },
  {
   "cell_type": "code",
   "execution_count": 22,
   "metadata": {
    "pycharm": {
     "name": "#%%\n"
    }
   },
   "outputs": [
    {
     "data": {
      "text/html": [
       "<div>\n",
       "<style scoped>\n",
       "    .dataframe tbody tr th:only-of-type {\n",
       "        vertical-align: middle;\n",
       "    }\n",
       "\n",
       "    .dataframe tbody tr th {\n",
       "        vertical-align: top;\n",
       "    }\n",
       "\n",
       "    .dataframe thead th {\n",
       "        text-align: right;\n",
       "    }\n",
       "</style>\n",
       "<table border=\"1\" class=\"dataframe\">\n",
       "  <thead>\n",
       "    <tr style=\"text-align: right;\">\n",
       "      <th></th>\n",
       "      <th>ID</th>\n",
       "      <th>Age</th>\n",
       "      <th>Height</th>\n",
       "      <th>Weight</th>\n",
       "      <th>Year</th>\n",
       "    </tr>\n",
       "  </thead>\n",
       "  <tbody>\n",
       "    <tr>\n",
       "      <th>count</th>\n",
       "      <td>12.000000</td>\n",
       "      <td>12.000000</td>\n",
       "      <td>12.00000</td>\n",
       "      <td>12.000000</td>\n",
       "      <td>12.0</td>\n",
       "    </tr>\n",
       "    <tr>\n",
       "      <th>mean</th>\n",
       "      <td>60788.166667</td>\n",
       "      <td>28.750000</td>\n",
       "      <td>203.00000</td>\n",
       "      <td>101.916667</td>\n",
       "      <td>1992.0</td>\n",
       "    </tr>\n",
       "    <tr>\n",
       "      <th>std</th>\n",
       "      <td>34981.954704</td>\n",
       "      <td>3.222788</td>\n",
       "      <td>8.23518</td>\n",
       "      <td>10.166418</td>\n",
       "      <td>0.0</td>\n",
       "    </tr>\n",
       "    <tr>\n",
       "      <th>min</th>\n",
       "      <td>7901.000000</td>\n",
       "      <td>22.000000</td>\n",
       "      <td>185.00000</td>\n",
       "      <td>79.000000</td>\n",
       "      <td>1992.0</td>\n",
       "    </tr>\n",
       "    <tr>\n",
       "      <th>25%</th>\n",
       "      <td>32667.000000</td>\n",
       "      <td>27.500000</td>\n",
       "      <td>199.50000</td>\n",
       "      <td>99.500000</td>\n",
       "      <td>1992.0</td>\n",
       "    </tr>\n",
       "    <tr>\n",
       "      <th>50%</th>\n",
       "      <td>60845.000000</td>\n",
       "      <td>29.000000</td>\n",
       "      <td>202.50000</td>\n",
       "      <td>101.500000</td>\n",
       "      <td>1992.0</td>\n",
       "    </tr>\n",
       "    <tr>\n",
       "      <th>75%</th>\n",
       "      <td>86160.500000</td>\n",
       "      <td>30.000000</td>\n",
       "      <td>206.50000</td>\n",
       "      <td>107.500000</td>\n",
       "      <td>1992.0</td>\n",
       "    </tr>\n",
       "    <tr>\n",
       "      <th>max</th>\n",
       "      <td>115325.000000</td>\n",
       "      <td>35.000000</td>\n",
       "      <td>216.00000</td>\n",
       "      <td>116.000000</td>\n",
       "      <td>1992.0</td>\n",
       "    </tr>\n",
       "  </tbody>\n",
       "</table>\n",
       "</div>"
      ],
      "text/plain": [
       "                  ID        Age     Height      Weight    Year\n",
       "count      12.000000  12.000000   12.00000   12.000000    12.0\n",
       "mean    60788.166667  28.750000  203.00000  101.916667  1992.0\n",
       "std     34981.954704   3.222788    8.23518   10.166418     0.0\n",
       "min      7901.000000  22.000000  185.00000   79.000000  1992.0\n",
       "25%     32667.000000  27.500000  199.50000   99.500000  1992.0\n",
       "50%     60845.000000  29.000000  202.50000  101.500000  1992.0\n",
       "75%     86160.500000  30.000000  206.50000  107.500000  1992.0\n",
       "max    115325.000000  35.000000  216.00000  116.000000  1992.0"
      ]
     },
     "execution_count": 22,
     "metadata": {},
     "output_type": "execute_result"
    }
   ],
   "source": [
    "dreamteam.describe()"
   ]
  },
  {
   "cell_type": "code",
   "execution_count": 98,
   "metadata": {
    "pycharm": {
     "name": "#%%\n"
    }
   },
   "outputs": [],
   "source": [
    "croatia = df_olimpiadas[(df_olimpiadas['Sport'] == 'Basketball') &  (df_olimpiadas['Year'] == 1992) &  (df_olimpiadas['Sex'] == 'M') &  (df_olimpiadas['Medal'] == 'Silver')]\n"
   ]
  },
  {
   "cell_type": "code",
   "execution_count": null,
   "metadata": {},
   "outputs": [],
   "source": []
  },
  {
   "cell_type": "code",
   "execution_count": 99,
   "metadata": {
    "pycharm": {
     "name": "#%%\n"
    }
   },
   "outputs": [
    {
     "data": {
      "text/html": [
       "<div>\n",
       "<style scoped>\n",
       "    .dataframe tbody tr th:only-of-type {\n",
       "        vertical-align: middle;\n",
       "    }\n",
       "\n",
       "    .dataframe tbody tr th {\n",
       "        vertical-align: top;\n",
       "    }\n",
       "\n",
       "    .dataframe thead th {\n",
       "        text-align: right;\n",
       "    }\n",
       "</style>\n",
       "<table border=\"1\" class=\"dataframe\">\n",
       "  <thead>\n",
       "    <tr style=\"text-align: right;\">\n",
       "      <th></th>\n",
       "      <th>ID</th>\n",
       "      <th>Name</th>\n",
       "      <th>Sex</th>\n",
       "      <th>Age</th>\n",
       "      <th>Height</th>\n",
       "      <th>Weight</th>\n",
       "      <th>Team</th>\n",
       "      <th>NOC</th>\n",
       "      <th>Games</th>\n",
       "      <th>Year</th>\n",
       "      <th>Season</th>\n",
       "      <th>City</th>\n",
       "      <th>Sport</th>\n",
       "      <th>Event</th>\n",
       "      <th>Medal</th>\n",
       "    </tr>\n",
       "  </thead>\n",
       "  <tbody>\n",
       "    <tr>\n",
       "      <th>3911</th>\n",
       "      <td>2256</td>\n",
       "      <td>Vladan Alanovi</td>\n",
       "      <td>M</td>\n",
       "      <td>25.0</td>\n",
       "      <td>190.0</td>\n",
       "      <td>81.0</td>\n",
       "      <td>Croatia</td>\n",
       "      <td>CRO</td>\n",
       "      <td>1992 Summer</td>\n",
       "      <td>1992</td>\n",
       "      <td>Summer</td>\n",
       "      <td>Barcelona</td>\n",
       "      <td>Basketball</td>\n",
       "      <td>Basketball Men's Basketball</td>\n",
       "      <td>Silver</td>\n",
       "    </tr>\n",
       "    <tr>\n",
       "      <th>8835</th>\n",
       "      <td>4847</td>\n",
       "      <td>Franjo Arapovi</td>\n",
       "      <td>M</td>\n",
       "      <td>27.0</td>\n",
       "      <td>211.0</td>\n",
       "      <td>120.0</td>\n",
       "      <td>Croatia</td>\n",
       "      <td>CRO</td>\n",
       "      <td>1992 Summer</td>\n",
       "      <td>1992</td>\n",
       "      <td>Summer</td>\n",
       "      <td>Barcelona</td>\n",
       "      <td>Basketball</td>\n",
       "      <td>Basketball Men's Basketball</td>\n",
       "      <td>Silver</td>\n",
       "    </tr>\n",
       "    <tr>\n",
       "      <th>47506</th>\n",
       "      <td>24490</td>\n",
       "      <td>Danko Cvjetianin</td>\n",
       "      <td>M</td>\n",
       "      <td>28.0</td>\n",
       "      <td>199.0</td>\n",
       "      <td>90.0</td>\n",
       "      <td>Croatia</td>\n",
       "      <td>CRO</td>\n",
       "      <td>1992 Summer</td>\n",
       "      <td>1992</td>\n",
       "      <td>Summer</td>\n",
       "      <td>Barcelona</td>\n",
       "      <td>Basketball</td>\n",
       "      <td>Basketball Men's Basketball</td>\n",
       "      <td>Silver</td>\n",
       "    </tr>\n",
       "    <tr>\n",
       "      <th>84117</th>\n",
       "      <td>42743</td>\n",
       "      <td>Alan Gregov</td>\n",
       "      <td>M</td>\n",
       "      <td>22.0</td>\n",
       "      <td>190.0</td>\n",
       "      <td>87.0</td>\n",
       "      <td>Croatia</td>\n",
       "      <td>CRO</td>\n",
       "      <td>1992 Summer</td>\n",
       "      <td>1992</td>\n",
       "      <td>Summer</td>\n",
       "      <td>Barcelona</td>\n",
       "      <td>Basketball</td>\n",
       "      <td>Basketball Men's Basketball</td>\n",
       "      <td>Silver</td>\n",
       "    </tr>\n",
       "    <tr>\n",
       "      <th>123346</th>\n",
       "      <td>62326</td>\n",
       "      <td>Arijan Komazec</td>\n",
       "      <td>M</td>\n",
       "      <td>22.0</td>\n",
       "      <td>200.0</td>\n",
       "      <td>98.0</td>\n",
       "      <td>Croatia</td>\n",
       "      <td>CRO</td>\n",
       "      <td>1992 Summer</td>\n",
       "      <td>1992</td>\n",
       "      <td>Summer</td>\n",
       "      <td>Barcelona</td>\n",
       "      <td>Basketball</td>\n",
       "      <td>Basketball Men's Basketball</td>\n",
       "      <td>Silver</td>\n",
       "    </tr>\n",
       "  </tbody>\n",
       "</table>\n",
       "</div>"
      ],
      "text/plain": [
       "           ID              Name Sex   Age  Height  Weight     Team  NOC  \\\n",
       "3911     2256    Vladan Alanovi   M  25.0   190.0    81.0  Croatia  CRO   \n",
       "8835     4847    Franjo Arapovi   M  27.0   211.0   120.0  Croatia  CRO   \n",
       "47506   24490  Danko Cvjetianin   M  28.0   199.0    90.0  Croatia  CRO   \n",
       "84117   42743       Alan Gregov   M  22.0   190.0    87.0  Croatia  CRO   \n",
       "123346  62326    Arijan Komazec   M  22.0   200.0    98.0  Croatia  CRO   \n",
       "\n",
       "              Games  Year  Season       City       Sport  \\\n",
       "3911    1992 Summer  1992  Summer  Barcelona  Basketball   \n",
       "8835    1992 Summer  1992  Summer  Barcelona  Basketball   \n",
       "47506   1992 Summer  1992  Summer  Barcelona  Basketball   \n",
       "84117   1992 Summer  1992  Summer  Barcelona  Basketball   \n",
       "123346  1992 Summer  1992  Summer  Barcelona  Basketball   \n",
       "\n",
       "                              Event   Medal  \n",
       "3911    Basketball Men's Basketball  Silver  \n",
       "8835    Basketball Men's Basketball  Silver  \n",
       "47506   Basketball Men's Basketball  Silver  \n",
       "84117   Basketball Men's Basketball  Silver  \n",
       "123346  Basketball Men's Basketball  Silver  "
      ]
     },
     "execution_count": 99,
     "metadata": {},
     "output_type": "execute_result"
    }
   ],
   "source": [
    "croatia.head(5)"
   ]
  },
  {
   "cell_type": "code",
   "execution_count": 105,
   "metadata": {
    "pycharm": {
     "name": "#%%\n"
    }
   },
   "outputs": [
    {
     "data": {
      "text/html": [
       "<div>\n",
       "<style scoped>\n",
       "    .dataframe tbody tr th:only-of-type {\n",
       "        vertical-align: middle;\n",
       "    }\n",
       "\n",
       "    .dataframe tbody tr th {\n",
       "        vertical-align: top;\n",
       "    }\n",
       "\n",
       "    .dataframe thead th {\n",
       "        text-align: right;\n",
       "    }\n",
       "</style>\n",
       "<table border=\"1\" class=\"dataframe\">\n",
       "  <thead>\n",
       "    <tr style=\"text-align: right;\">\n",
       "      <th></th>\n",
       "      <th>ID</th>\n",
       "      <th>Age</th>\n",
       "      <th>Height</th>\n",
       "      <th>Weight</th>\n",
       "      <th>Year</th>\n",
       "    </tr>\n",
       "  </thead>\n",
       "  <tbody>\n",
       "    <tr>\n",
       "      <th>count</th>\n",
       "      <td>12.000000</td>\n",
       "      <td>12.000000</td>\n",
       "      <td>12.000000</td>\n",
       "      <td>12.000000</td>\n",
       "      <td>12.0</td>\n",
       "    </tr>\n",
       "    <tr>\n",
       "      <th>mean</th>\n",
       "      <td>68125.833333</td>\n",
       "      <td>25.166667</td>\n",
       "      <td>202.666667</td>\n",
       "      <td>98.083333</td>\n",
       "      <td>1992.0</td>\n",
       "    </tr>\n",
       "    <tr>\n",
       "      <th>std</th>\n",
       "      <td>42065.214530</td>\n",
       "      <td>2.367712</td>\n",
       "      <td>8.978088</td>\n",
       "      <td>14.074208</td>\n",
       "      <td>0.0</td>\n",
       "    </tr>\n",
       "    <tr>\n",
       "      <th>min</th>\n",
       "      <td>2256.000000</td>\n",
       "      <td>22.000000</td>\n",
       "      <td>190.000000</td>\n",
       "      <td>81.000000</td>\n",
       "      <td>1992.0</td>\n",
       "    </tr>\n",
       "    <tr>\n",
       "      <th>25%</th>\n",
       "      <td>38179.750000</td>\n",
       "      <td>22.750000</td>\n",
       "      <td>196.500000</td>\n",
       "      <td>87.000000</td>\n",
       "      <td>1992.0</td>\n",
       "    </tr>\n",
       "    <tr>\n",
       "      <th>50%</th>\n",
       "      <td>74459.000000</td>\n",
       "      <td>25.500000</td>\n",
       "      <td>201.500000</td>\n",
       "      <td>94.000000</td>\n",
       "      <td>1992.0</td>\n",
       "    </tr>\n",
       "    <tr>\n",
       "      <th>75%</th>\n",
       "      <td>95453.750000</td>\n",
       "      <td>27.000000</td>\n",
       "      <td>210.250000</td>\n",
       "      <td>108.250000</td>\n",
       "      <td>1992.0</td>\n",
       "    </tr>\n",
       "    <tr>\n",
       "      <th>max</th>\n",
       "      <td>127607.000000</td>\n",
       "      <td>28.000000</td>\n",
       "      <td>217.000000</td>\n",
       "      <td>120.000000</td>\n",
       "      <td>1992.0</td>\n",
       "    </tr>\n",
       "  </tbody>\n",
       "</table>\n",
       "</div>"
      ],
      "text/plain": [
       "                  ID        Age      Height      Weight    Year\n",
       "count      12.000000  12.000000   12.000000   12.000000    12.0\n",
       "mean    68125.833333  25.166667  202.666667   98.083333  1992.0\n",
       "std     42065.214530   2.367712    8.978088   14.074208     0.0\n",
       "min      2256.000000  22.000000  190.000000   81.000000  1992.0\n",
       "25%     38179.750000  22.750000  196.500000   87.000000  1992.0\n",
       "50%     74459.000000  25.500000  201.500000   94.000000  1992.0\n",
       "75%     95453.750000  27.000000  210.250000  108.250000  1992.0\n",
       "max    127607.000000  28.000000  217.000000  120.000000  1992.0"
      ]
     },
     "execution_count": 105,
     "metadata": {},
     "output_type": "execute_result"
    }
   ],
   "source": [
    "croatia.describe()"
   ]
  },
  {
   "cell_type": "markdown",
   "metadata": {
    "pycharm": {
     "name": "#%% md\n"
    }
   },
   "source": [
    "   ###  AGE       x  HEIGHT  x     WEIGHT\n",
    "   \n",
    "         #USA       ||   28.750000  ||  203.00000  || 101.916667\n",
    "\n",
    "         #CROATIA   ||   25.166667\t||  202.666667 || 98.083333\n"
   ]
  },
  {
   "cell_type": "markdown",
   "metadata": {
    "pycharm": {
     "name": "#%%\n"
    }
   },
   "source": [
    "### Concluí-se que, a idade importa então? A reposta é, depende! kkk Se for pra esporte coletivos, talvez a experência conte mais, asssim como no exemplo do Dream Team(92), que tinha uma média de idade maior que a equipe da Croácia. Por outro lado, em esportes individuais a idade mais nova pode ser uma alavancagem a favor  do atleta, por isso depende do esporte e da modalidade praticada."
   ]
  },
  {
   "cell_type": "code",
   "execution_count": null,
   "metadata": {
    "pycharm": {
     "name": "#%%\n"
    }
   },
   "outputs": [],
   "source": []
  }
 ],
 "metadata": {
  "kernelspec": {
   "display_name": "Python 3",
   "language": "python",
   "name": "python3"
  },
  "language_info": {
   "codemirror_mode": {
    "name": "ipython",
    "version": 3
   },
   "file_extension": ".py",
   "mimetype": "text/x-python",
   "name": "python",
   "nbconvert_exporter": "python",
   "pygments_lexer": "ipython3",
   "version": "3.7.6"
  }
 },
 "nbformat": 4,
 "nbformat_minor": 1
}
